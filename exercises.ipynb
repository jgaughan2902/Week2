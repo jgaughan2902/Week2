{
 "cells": [
  {
   "cell_type": "markdown",
   "id": "6cf1aed9",
   "metadata": {},
   "source": [
    "<font color='darkred'> Unless otherwise noted, **this notebook will not be reviewed or autograded.**</font> You are welcome to use it for scratchwork, but **only the files listed in the exercises will be checked.**\n",
    "\n",
    "---\n",
    "\n",
    "# Exercises\n",
    "\n",
    "For these exercises, add your functions to the *apputil\\.py* file. If you like, you're welcome to adjust the *app\\.py* file, but it is not required.\n",
    "\n",
    "## Exercise 1\n",
    "\n",
    "Given enough pennies (1 cent) and nickels (5 cents), write a function `ways(n)` which calculates the number of ways you can make change for a given amount of cents `n`. The function should return the number of ways to yield `n` cents using only pennies and nickels.\n",
    "\n",
    "**Test Cases:**\n",
    "\n",
    "```python\n",
    "function   --->      (num pennies, num nickels)\n",
    "    \n",
    "ways(12)   ---> 3    [(2, 2), (7, 1), (12, 0)]               \n",
    "ways(20)   ---> 5    [(0, 4), (5, 3), (10, 2), (15, 1), (20, 0)]\n",
    "ways(3)    ---> 1    [(3, 0)]\n",
    "ways(0)    ---> 1    [(0, 0)]\n",
    "```\n",
    "\n",
    "*Note: the autograder will be checking only for the function to return the **number** of ways. The items listed to the right, above, are for reference only.*"
   ]
  },
  {
   "cell_type": "markdown",
   "id": "a067cdd5",
   "metadata": {
    "vscode": {
     "languageId": "plaintext"
    }
   },
   "source": [
    "### optional variation\n",
    "\n",
    "Update your `ways` function to incorporate an *arbitrary* set of coin values. I.e., your function should now look something like this:\n",
    "\n",
    "```python\n",
    "def ways(cents, coin_types=[1, 5]):\n",
    "    # code code ...\n",
    "\n",
    ">>> ways(100, [25, 10, 5, 1])\n",
    ">>> 242\n",
    "```\n"
   ]
  },
  {
   "cell_type": "code",
   "execution_count": null,
   "id": "ae5247e1",
   "metadata": {},
   "outputs": [],
   "source": []
  },
  {
   "cell_type": "code",
   "execution_count": null,
   "id": "aaaa5a05",
   "metadata": {},
   "outputs": [],
   "source": []
  },
  {
   "cell_type": "markdown",
   "id": "28682d59",
   "metadata": {},
   "source": [
    "## Exercise 2\n",
    "\n",
    "Suppose we have student `names`, and test `scores` for each student, respectively. For example, we could have:\n",
    "\n",
    "```python\n",
    "names = np.array(['Hannah', 'Astrid', 'Abdul', 'Mauve', 'Jung'])\n",
    "scores = np.array([99, 71, 85, 62, 91])\n",
    "```\n",
    "\n",
    "### part 1\n",
    "\n",
    "Use NumPy to write a function `lowest_score(names, scores)` that returns the `name` of the student with the lowest `score`.\n",
    "\n",
    "> Hint: take a look at the [argmin](https://numpy.org/doc/stable/reference/generated/numpy.argmin.html) function.\n",
    "\n",
    "### part 2\n",
    "\n",
    "Write a similar function `sort_names(names, scores)` that will list the names of students in *descending* order of test score (i.e., a list of names, with associated scores in order from highest to lowest)."
   ]
  },
  {
   "cell_type": "code",
   "execution_count": 12,
   "id": "8d78555f",
   "metadata": {},
   "outputs": [
    {
     "name": "stdout",
     "output_type": "stream",
     "text": [
      "Hannah\n",
      "Astrid\n",
      "Abdul\n",
      "Mauve\n",
      "Jung\n"
     ]
    },
    {
     "ename": "TypeError",
     "evalue": "only length-1 arrays can be converted to Python scalars",
     "output_type": "error",
     "traceback": [
      "\u001b[31m---------------------------------------------------------------------------\u001b[39m",
      "\u001b[31mTypeError\u001b[39m                                 Traceback (most recent call last)",
      "\u001b[36mCell\u001b[39m\u001b[36m \u001b[39m\u001b[32mIn[12]\u001b[39m\u001b[32m, line 15\u001b[39m\n\u001b[32m     12\u001b[39m     sortedScores = \u001b[38;5;28mint\u001b[39m(scores[sortedInd])\n\u001b[32m     13\u001b[39m     \u001b[38;5;28;01mreturn\u001b[39;00m \u001b[38;5;28mlist\u001b[39m(sortedNames), \u001b[38;5;28mlist\u001b[39m(sortedScores)\n\u001b[32m---> \u001b[39m\u001b[32m15\u001b[39m \u001b[43msort_names\u001b[49m\u001b[43m(\u001b[49m\u001b[43mnames\u001b[49m\u001b[43m,\u001b[49m\u001b[43m \u001b[49m\u001b[43mscores\u001b[49m\u001b[43m)\u001b[49m\n",
      "\u001b[36mCell\u001b[39m\u001b[36m \u001b[39m\u001b[32mIn[12]\u001b[39m\u001b[32m, line 12\u001b[39m, in \u001b[36msort_names\u001b[39m\u001b[34m(names, scores)\u001b[39m\n\u001b[32m     10\u001b[39m sortedInd = np.argsort(scores)[::-\u001b[32m1\u001b[39m]\n\u001b[32m     11\u001b[39m sortedNames = \u001b[38;5;28mstr\u001b[39m(names[sortedInd])\n\u001b[32m---> \u001b[39m\u001b[32m12\u001b[39m sortedScores = \u001b[38;5;28;43mint\u001b[39;49m\u001b[43m(\u001b[49m\u001b[43mscores\u001b[49m\u001b[43m[\u001b[49m\u001b[43msortedInd\u001b[49m\u001b[43m]\u001b[49m\u001b[43m)\u001b[49m\n\u001b[32m     13\u001b[39m \u001b[38;5;28;01mreturn\u001b[39;00m \u001b[38;5;28mlist\u001b[39m(sortedNames), \u001b[38;5;28mlist\u001b[39m(sortedScores)\n",
      "\u001b[31mTypeError\u001b[39m: only length-1 arrays can be converted to Python scalars"
     ]
    }
   ],
   "source": [
    "import numpy as np\n",
    "\n",
    "names = np.array(['Hannah', 'Astrid', 'Abdul', 'Mauve', 'Jung'])\n",
    "scores = np.array([99, 71, 85, 62, 91])\n",
    "\n",
    "for c in names:\n",
    "    print(c)\n",
    "\n",
    "def sort_names(names, scores):\n",
    "    sortedInd = np.argsort(scores)[::-1]\n",
    "    sortedNames = str(names[sortedInd])\n",
    "    sortedScores = int(scores[sortedInd])\n",
    "    return list(sortedNames), list(sortedScores)\n",
    "\n",
    "sort_names(names, scores)"
   ]
  }
 ],
 "metadata": {
  "kernelspec": {
   "display_name": "base",
   "language": "python",
   "name": "python3"
  },
  "language_info": {
   "codemirror_mode": {
    "name": "ipython",
    "version": 3
   },
   "file_extension": ".py",
   "mimetype": "text/x-python",
   "name": "python",
   "nbconvert_exporter": "python",
   "pygments_lexer": "ipython3",
   "version": "3.11.13"
  }
 },
 "nbformat": 4,
 "nbformat_minor": 5
}
